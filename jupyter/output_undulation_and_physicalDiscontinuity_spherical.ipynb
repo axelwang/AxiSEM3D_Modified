{
 "cells": [
  {
   "cell_type": "markdown",
   "metadata": {},
   "source": [
    "#### Files needed for undulation"
   ]
  },
  {
   "cell_type": "markdown",
   "metadata": {},
   "source": [
    "- regularGLL.txt, from `SE_MODEL.cpp` and `Quad.cpp`\n",
    "- fCoeffs.txt, from `Undulation.cpp`\n",
    "- undulatedElementTags.txt, from `Undulation.cpp`"
   ]
  },
  {
   "cell_type": "markdown",
   "metadata": {},
   "source": [
    "#### For models with no undulation, please also follow the same procedure for regularGLL.txt, which will be the only file created"
   ]
  },
  {
   "cell_type": "markdown",
   "metadata": {},
   "source": [
    "### Notes for creating the files above:\n",
    "Drag the input folder of a specific model to the `build` directory of the `dev_axisem3d` folder. Run the build there."
   ]
  },
  {
   "cell_type": "markdown",
   "metadata": {},
   "source": [
    "#### This is a spherical mesh. Processing is different from Cartesian mesh."
   ]
  },
  {
   "cell_type": "code",
   "execution_count": null,
   "metadata": {},
   "outputs": [],
   "source": [
    "import numpy as np\n",
    "import netCDF4 as nc\n",
    "import re\n",
    "import pyvtk\n",
    "import pyvista as pv\n",
    "import pickle"
   ]
  },
  {
   "cell_type": "markdown",
   "metadata": {},
   "source": [
    "-------------"
   ]
  },
  {
   "cell_type": "markdown",
   "metadata": {},
   "source": [
    "## Input parameters"
   ]
  },
  {
   "cell_type": "markdown",
   "metadata": {},
   "source": [
    "### File locations"
   ]
  },
  {
   "cell_type": "code",
   "execution_count": null,
   "metadata": {},
   "outputs": [],
   "source": [
    "# fileDir requires '/' at the end\n",
    "baseDir = ''\n",
    "modelName = ''\n",
    "fileDir =baseDir+modelName+'/'\n",
    "destDir = fileDir"
   ]
  },
  {
   "cell_type": "markdown",
   "metadata": {},
   "source": [
    "### Physical slice"
   ]
  },
  {
   "cell_type": "code",
   "execution_count": null,
   "metadata": {},
   "outputs": [],
   "source": [
    "phi_degree = 45"
   ]
  },
  {
   "cell_type": "markdown",
   "metadata": {},
   "source": [
    "### Undulation"
   ]
  },
  {
   "cell_type": "code",
   "execution_count": null,
   "metadata": {},
   "outputs": [],
   "source": [
    "undulated = True\n",
    "### Set Nr as used in simulation\n",
    "Nr = 5"
   ]
  },
  {
   "cell_type": "markdown",
   "metadata": {},
   "source": [
    "-----------"
   ]
  },
  {
   "cell_type": "markdown",
   "metadata": {},
   "source": [
    "## Load and process file with regular GLL grid"
   ]
  },
  {
   "cell_type": "code",
   "execution_count": null,
   "metadata": {},
   "outputs": [],
   "source": [
    "regularGLL = np.loadtxt(fileDir+\"regularGLL.txt\")    # this file does not have repeated elements\n",
    "sidx = [i for i in np.arange(0,len(regularGLL)-1,2)]\n",
    "zidx = [i for i in np.arange(1,len(regularGLL),2)]\n",
    "S = regularGLL[sidx]\n",
    "Z = regularGLL[zidx]\n",
    "nElem = len(S)                                       # total number of elements\n",
    "S = S.reshape((S.shape[0]*S.shape[1],))\n",
    "Z = Z.reshape((Z.shape[0]*Z.shape[1],))\n",
    "S_Original = S.copy()\n",
    "Z_Original = Z.copy()"
   ]
  },
  {
   "cell_type": "markdown",
   "metadata": {},
   "source": [
    "## Coordinate transformation functions"
   ]
  },
  {
   "cell_type": "code",
   "execution_count": null,
   "metadata": {},
   "outputs": [],
   "source": [
    "def sz2rtheta(s,z):\n",
    "    '''\n",
    "    Convert cylindrical s,z to spherical r, theta\n",
    "    '''\n",
    "    r = np.sqrt(s**2+z**2)\n",
    "    theta = np.arccos(z/r)\n",
    "    return r,theta"
   ]
  },
  {
   "cell_type": "markdown",
   "metadata": {},
   "source": [
    "## Process file with Fourier coefficients"
   ]
  },
  {
   "cell_type": "code",
   "execution_count": null,
   "metadata": {},
   "outputs": [],
   "source": [
    "if undulated: \n",
    "    fourier_order = int(Nr / 2 + 1)\n",
    "\n",
    "    fcName = fileDir+\"fCoeffs.txt\" \n",
    "    undElemName = fileDir+\"undulatedElementTags.txt\" \n",
    "    with open(fcName) as f:             # This file only has the elements that are in the undulation range for one GEO model  \n",
    "        lines1 = f.readlines()\n",
    "    with open(undElemName) as f:        # These are the tag numbers for the elements in the above file\n",
    "        lines2 = f.readlines()\n",
    "\n",
    "    # These files contain the set of element twice, as models are built twice\n",
    "    # Here we take the second half\n",
    "    #lines2Cut = (int(re.sub(r\"\\D\", \"\",lines2[-1]))-int(re.sub(r\"\\D\", \"\",lines2[0]))+1)\n",
    "    lines1Cut = int(len(lines1)/2)\n",
    "    lines2Cut = int(len(lines2)/2)\n",
    "    # lines1 =lines1[0:lines1Cut]\n",
    "    # lines2 = lines2[0:lines2Cut]\n",
    "    lines1 =lines1[lines1Cut:]\n",
    "    lines2 = lines2[lines2Cut:]\n",
    "\n",
    "\n",
    "    element_tag = []\n",
    "    for i in range(0,len(lines2)):\n",
    "        element_tag.append(int(re.sub(r\"\\D\", \"\",lines2[i])))\n",
    "\n",
    "\n",
    "    # convert the string-character format to only floats\n",
    "    # structure of data is unchanged here\n",
    "    # in each line, even index is real, odd index is imag\n",
    "    # every 5 lines changes a fourier order\n",
    "    # every 5*fourier_order lines changes an element\n",
    "    fourier_coefficient = []\n",
    "    for i in range(0,len(lines1)):\n",
    "        lineList = lines1[i].replace(\" \",\"\").replace(\")\",\"\").replace(\"\\n\",\"\").split(\"(\")[1:]\n",
    "        oneLineFloat = []\n",
    "        for k in range(0,5):\n",
    "            onePointStr = lineList[k].split(\",\")\n",
    "            onePointf1 = float(lineList[k].split(\",\")[0])\n",
    "            onePointf2 = float(lineList[k].split(\",\")[1])\n",
    "            oneLineFloat.append(onePointf1)\n",
    "            oneLineFloat.append(onePointf2)\n",
    "\n",
    "        fourier_coefficient.append(oneLineFloat)\n",
    "\n",
    "    fourier_coefficient = np.array(fourier_coefficient)\n",
    "\n",
    "    # line number ranges for m-th order for k-th element: np.arange(0,5)+int(5*(m+fourier_order * k))\n",
    "    complex_type = np.complex32 if fourier_coefficient.dtype == np.complex64 else np.complex128\n",
    "\n",
    "    phi_degree = 45\n",
    "    phi = np.deg2rad(phi_degree)\n",
    "    factor = 1.  # factor multiplied to dZ to amplify undulation for visulization purpose\n",
    "\n",
    "    # Create a dictionary that stores dZ for all points in each element\n",
    "    dict_data_dz = {}\n",
    "    for k in range(0,len(element_tag)):\n",
    "        # initialize undulation results with 0th order\n",
    "        real_idx = [i for i in np.arange(0,10,2)]\n",
    "        imag_idx = [i for i in np.arange(1,10,2)]\n",
    "        dZ_inElem = np.reshape(fourier_coefficient[np.arange(0,5)+int(5*(0+fourier_order * k))][:,real_idx],-1)\n",
    "        for m in range(1,int(fourier_order)):\n",
    "            coeff_inElem = np.zeros((25,),dtype=complex_type)       \n",
    "            coeff_inElem.real = np.reshape(fourier_coefficient[np.arange(0,5)+int(5*(m+fourier_order * k))][:,real_idx],-1)\n",
    "            coeff_inElem.imag = np.reshape(fourier_coefficient[np.arange(0,5)+int(5*(m+fourier_order * k))][:,imag_idx],-1)        \n",
    "            dZ_inElem += (2. * np.exp(1j * m * phi) * coeff_inElem).real\n",
    "        key = element_tag[k]\n",
    "        dict_data_dz[key] = dZ_inElem\n",
    "\n",
    "        # now find idicies in the big flattened SZ coord array that correspond to these dZ's\n",
    "        start_idx = element_tag[k] * 25\n",
    "        idx_inElem = np.arange(start_idx,start_idx+25,1)\n",
    "        # deform the mesh\n",
    "        S_inElem = S[idx_inElem]\n",
    "        Z_inElem = Z[idx_inElem]\n",
    "        r,theta = sz2rtheta(S_inElem,Z_inElem)\n",
    "        S[idx_inElem] += factor*dZ_inElem*np.sin(theta)\n",
    "        Z[idx_inElem] += factor*dZ_inElem*np.cos(theta)\n",
    "   "
   ]
  },
  {
   "cell_type": "code",
   "execution_count": null,
   "metadata": {},
   "outputs": [],
   "source": [
    "np.cos(theta)"
   ]
  },
  {
   "cell_type": "markdown",
   "metadata": {},
   "source": [
    "### Write dz to a pickle file for use with animation"
   ]
  },
  {
   "cell_type": "code",
   "execution_count": null,
   "metadata": {},
   "outputs": [],
   "source": [
    "with open(fileDir+'dz_dict_'+modelName+'.pkl', \"wb\") as p:\n",
    "    pickle.dump(dict_data_dz,p)"
   ]
  },
  {
   "cell_type": "markdown",
   "metadata": {},
   "source": [
    "## Discontinuity lines\n",
    "1. Surface\n",
    "2. Moho"
   ]
  },
  {
   "cell_type": "markdown",
   "metadata": {},
   "source": [
    "#### Find the GLL points that form these discontinuity lines\n",
    "Read the following parameters from input and background model files"
   ]
  },
  {
   "cell_type": "code",
   "execution_count": null,
   "metadata": {},
   "outputs": [],
   "source": [
    "def findDisconGLLsSpherical(disconStart, minV, maxColat, numElemPerWL, maxFreq, surface = False):\n",
    "    \n",
    "    minWL = minV/maxFreq\n",
    "    horizElemLen = minWL/numElemPerWL\n",
    "    earthRadius = 6371e3\n",
    "    # number of elements on the surface arc, which is the same for deeper arcs unless there is mesh coarsening.\n",
    "    numArcSurfElem = int(np.ceil(earthRadius * np.deg2rad(maxColat)/horizElemLen))\n",
    "    print(\"Number of elements along arc:\" + str(numArcSurfElem))\n",
    "    \n",
    "    disconZ = []\n",
    "    disconS = []\n",
    "    \n",
    "    originalZ = []\n",
    "    \n",
    "    # a deeper discontinuity\n",
    "    if ~surface:\n",
    "        # Find the element tags of the elements whose bottom edge is the discontinuity\n",
    "        disconElemTags = np.arange(disconStart,int(disconStart+numArcSurfElem))\n",
    "\n",
    "        # Find the index for big Z array and extract the Z values that correspond to the bottom edge in these elements\n",
    "        # 0 - 5 - 10 - 15 - 20 \n",
    "        # but here we downsample as the output data:\n",
    "        # 0 - 10 -20 \n",
    "        for k in disconElemTags:\n",
    "            start_idx = k * 25\n",
    "            disconIDX_inElem = np.arange(start_idx,start_idx+21,10)\n",
    "            disconZ.append(Z[disconIDX_inElem])\n",
    "            disconS.append(S[disconIDX_inElem])\n",
    "           \n",
    "            originalZ.append(Z_Original[disconIDX_inElem])\n",
    "    # the discontinuity is the surface\n",
    "    else:\n",
    "        disconElemTags = np.arange(disconStart,int(disconStart+numArcSurfElem))\n",
    "        # Find the index for big Z array and extract the Z values that correspond to the bottom edge in these elements\n",
    "        # 4 - 9 - 14 - 19 - 24\n",
    "        # but here we downsample as the output data:\n",
    "        # 4 - 14 -24 \n",
    "        for k in disconElemTags:\n",
    "            start_idx = k * 25\n",
    "            disconIDX_inElem = np.arange(start_idx+4,start_idx+25,10)\n",
    "            disconZ.append(Z[disconIDX_inElem])\n",
    "            disconS.append(S[disconIDX_inElem])\n",
    "            \n",
    "            originalZ.append(Z_Original[disconIDX_inElem])\n",
    "    \n",
    "    disconZ = np.array(disconZ)\n",
    "    disconZ = disconZ.reshape(-1)\n",
    "    disconS = np.array(disconS)\n",
    "    disconS = disconS.reshape(-1)\n",
    "\n",
    "    originalZ = np.array(originalZ)\n",
    "    originalZ = originalZ.reshape(-1)\n",
    "    \n",
    "    return disconZ, disconS,originalZ\n",
    "        \n",
    "        "
   ]
  },
  {
   "cell_type": "markdown",
   "metadata": {},
   "source": [
    "### Moho"
   ]
  },
  {
   "cell_type": "code",
   "execution_count": null,
   "metadata": {},
   "outputs": [],
   "source": [
    "disconStart =2116400\n",
    "# This number selects which discontinuity to plot\n",
    "# To find the above number, go to SE_Model.cpp in the dev version. This has to be done once for each discontinuity\n",
    "# Don't forget to rebuild the code once discon depth is changed\n",
    "######################\n",
    "minV = 3200          # From background model. Exclude 0. m/s\n",
    "maxColat = 18.2       # in degrees\n",
    "numElemPerWL = 2.78\n",
    "maxFreq = 5       # Hz\n",
    "surface = False\n",
    "\n",
    "disconZ, disconS, originalZ = findDisconGLLsSpherical(disconStart,\n",
    "                                                      minV, \n",
    "                                                      maxColat, \n",
    "                                                      numElemPerWL, \n",
    "                                                      maxFreq,\n",
    "                                                      surface)"
   ]
  },
  {
   "cell_type": "code",
   "execution_count": null,
   "metadata": {},
   "outputs": [],
   "source": [
    "d = 100e3  # forward shift distance. This is used to shift boundaries to NOT conincide with point-cloud spatially\n",
    "           # in paraview. Otherwise, Paraview can't render lines. \n",
    "           # Only needed if only 1 point per element is output.\n",
    "           # If multiple points are output and mesh is represented by a surface but not point-cloud, then don't\n",
    "           # need this. \n",
    "\n",
    "#+d*np.sin(np.deg2rad(phi_degree))\n",
    "#*np.cos(np.deg2rad(phi_degree))\n",
    "x = disconS*np.cos(np.deg2rad(phi_degree))+d*np.cos(np.deg2rad(phi_degree))\n",
    "y = disconS*np.sin(np.deg2rad(phi_degree))+(-d)*np.sin(np.deg2rad(phi_degree))\n",
    "z = disconZ\n",
    "points = np.column_stack((x,y,z))\n",
    "\n",
    "disconVTK = destDir + \"\"\n",
    "\n",
    "\n",
    "# Make a spline by interpolation\n",
    "moho = pv.Spline(points,400)\n",
    "# Check if spline makes sense\n",
    "#moho.plot(line_width=4, color=\"k\")\n",
    "# Save VTK file\n",
    "moho.save(disconVTK,binary=True)"
   ]
  },
  {
   "cell_type": "markdown",
   "metadata": {},
   "source": [
    "### LVZ Top"
   ]
  },
  {
   "cell_type": "code",
   "execution_count": null,
   "metadata": {},
   "outputs": [],
   "source": [
    "disconStart =1249600\n",
    "numElemPerWL /= 2\n",
    "disconZ, disconS, originalZ = findDisconGLLsSpherical(disconStart,\n",
    "                                                      minV, \n",
    "                                                      maxColat, \n",
    "                                                      numElemPerWL, \n",
    "                                                      maxFreq,\n",
    "                                                      surface)"
   ]
  },
  {
   "cell_type": "code",
   "execution_count": null,
   "metadata": {},
   "outputs": [],
   "source": [
    "x = disconS*np.cos(np.deg2rad(phi_degree)) +d*np.sin(np.deg2rad(phi_degree))\n",
    "y = disconS*np.sin(np.deg2rad(phi_degree)) +(-d)*np.cos(np.deg2rad(phi_degree))\n",
    "z = disconZ\n",
    "points = np.column_stack((x,y,z))\n",
    "\n",
    "\n",
    "disconVTK = destDir + \".vtk\"\n",
    "\n",
    "\n",
    "# # Make a spline by interpolation\n",
    "lvzTop = pv.Spline(points,400)\n",
    "# Check if spline makes sense\n",
    "#moho.plot(line_width=4, color=\"k\")\n",
    "# Save VTK file\n",
    "lvzTop.save(disconVTK,binary=True)"
   ]
  },
  {
   "cell_type": "markdown",
   "metadata": {},
   "source": [
    "### LVZ Bot"
   ]
  },
  {
   "cell_type": "code",
   "execution_count": null,
   "metadata": {},
   "outputs": [],
   "source": [
    "disconStart =286000\n",
    "\n",
    "disconZ, disconS, originalZ = findDisconGLLsSpherical(disconStart,\n",
    "                                                      minV, \n",
    "                                                      maxColat, \n",
    "                                                      numElemPerWL, \n",
    "                                                      maxFreq,\n",
    "                                                      surface)"
   ]
  },
  {
   "cell_type": "code",
   "execution_count": null,
   "metadata": {},
   "outputs": [],
   "source": [
    "x = disconS*np.cos(np.deg2rad(phi_degree)) +d*np.sin(np.deg2rad(phi_degree))\n",
    "y = disconS*np.sin(np.deg2rad(phi_degree)) +(-d)*np.cos(np.deg2rad(phi_degree))\n",
    "z = disconZ\n",
    "points = np.column_stack((x,y,z))\n",
    "\n",
    "disconVTK = destDir + \".vtk\"\n",
    "\n",
    "\n",
    "# Make a spline by interpolation\n",
    "lvzBot = pv.Spline(points,400)\n",
    "# Check if spline makes sense\n",
    "#moho.plot(line_width=4, color=\"k\")\n",
    "# Save VTK file\n",
    "lvzBot.save(disconVTK,binary=True)"
   ]
  },
  {
   "cell_type": "code",
   "execution_count": null,
   "metadata": {},
   "outputs": [],
   "source": []
  }
 ],
 "metadata": {
  "kernelspec": {
   "display_name": "Python 3 (ipykernel)",
   "language": "python",
   "name": "python3"
  },
  "language_info": {
   "codemirror_mode": {
    "name": "ipython",
    "version": 3
   },
   "file_extension": ".py",
   "mimetype": "text/x-python",
   "name": "python",
   "nbconvert_exporter": "python",
   "pygments_lexer": "ipython3",
   "version": "3.9.13"
  }
 },
 "nbformat": 4,
 "nbformat_minor": 4
}
